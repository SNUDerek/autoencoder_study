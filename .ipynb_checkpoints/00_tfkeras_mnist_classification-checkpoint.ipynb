{
 "cells": [
  {
   "cell_type": "markdown",
   "metadata": {},
   "source": [
    "# Hello Tensorflow Too\n",
    "\n",
    "## test 0 alt: Fashion MNIST classification with tf.data.Datasets & tf.keras\n",
    "\n",
    "here we create a small 2D convolutional network to classify Fashion MNIST clothing dataset.\n",
    "\n",
    "it consists of a number of 2D convolutional layers that compress the 28x28 pixel digits to 64-dim vector before a final dense network for classification.\n",
    "\n",
    "we can then test using this classification network as the encoder of an autoencoder model (next notebook).\n"
   ]
  },
  {
   "cell_type": "code",
   "execution_count": 1,
   "metadata": {},
   "outputs": [],
   "source": [
    "import numpy as np\n",
    "import tensorflow as tf"
   ]
  },
  {
   "cell_type": "code",
   "execution_count": 2,
   "metadata": {},
   "outputs": [
    {
     "data": {
      "text/plain": [
       "'2.0.0-beta1'"
      ]
     },
     "execution_count": 2,
     "metadata": {},
     "output_type": "execute_result"
    }
   ],
   "source": [
    "tf.__version__"
   ]
  },
  {
   "cell_type": "code",
   "execution_count": 3,
   "metadata": {},
   "outputs": [
    {
     "name": "stdout",
     "output_type": "stream",
     "text": [
      "0.0 1.0\n",
      "(60000, 28, 28, 1)\n",
      "(60000, 1)\n"
     ]
    }
   ],
   "source": [
    "(x_train, y_train), (x_test, y_test) = tf.keras.datasets.mnist.load_data()\n",
    "# add axis for channel and normalize to 0 ~ 1 (based on training max)\n",
    "x_test = np.expand_dims(x_test, axis=-1)/np.max(x_train)\n",
    "x_train = np.expand_dims(x_train, axis=-1)/np.max(x_train)\n",
    "x_shape = x_train[0].shape\n",
    "print(np.min(x_train), np.max(x_train))\n",
    "print(x_train.shape)\n",
    "# add axis for sparse categorical crossentropy (unnecessary)\n",
    "y_train = np.expand_dims(y_train, axis=-1)\n",
    "y_test = np.expand_dims(y_test, axis=-1)\n",
    "print(y_train.shape)"
   ]
  },
  {
   "cell_type": "code",
   "execution_count": 4,
   "metadata": {},
   "outputs": [],
   "source": [
    "trn_dataset = tf.data.Dataset.from_tensor_slices((x_train, y_train))\n",
    "trn_dataset = trn_dataset.shuffle(buffer_size=128).batch(32, drop_remainder=True)"
   ]
  },
  {
   "cell_type": "code",
   "execution_count": 5,
   "metadata": {},
   "outputs": [],
   "source": [
    "tst_dataset = tf.data.Dataset.from_tensor_slices((x_test, y_test))\n",
    "tst_dataset = tst_dataset.shuffle(buffer_size=128).batch(32, drop_remainder=True)"
   ]
  },
  {
   "cell_type": "code",
   "execution_count": 6,
   "metadata": {},
   "outputs": [],
   "source": [
    "clfmdl = tf.keras.Sequential([\n",
    "    tf.keras.layers.Conv2D(8, kernel_size=2, activation='relu', strides=2, input_shape=x_shape, name='conv2d_a'),\n",
    "    tf.keras.layers.Dropout(rate=0.2, name='dropout_a'),\n",
    "    tf.keras.layers.Conv2D(8, kernel_size=4, activation='relu', strides=1, name='conv2d_b'),\n",
    "    tf.keras.layers.Conv2D(8, kernel_size=4, activation='relu', strides=1, name='conv2d_c'),\n",
    "    tf.keras.layers.Dropout(rate=0.2, name='dropout_b'),\n",
    "    tf.keras.layers.Conv2D(8, kernel_size=4, activation='relu', strides=1, name='conv2d_d'),\n",
    "    tf.keras.layers.Conv2D(4, kernel_size=2, activation='tanh', name='conv2d_e'),\n",
    "    tf.keras.layers.Flatten(name='flatten'),\n",
    "    tf.keras.layers.Dense(10, activation='softmax', name='dense')\n",
    "], name='classifier')"
   ]
  },
  {
   "cell_type": "code",
   "execution_count": 7,
   "metadata": {},
   "outputs": [
    {
     "name": "stdout",
     "output_type": "stream",
     "text": [
      "Model: \"classifier\"\n",
      "_________________________________________________________________\n",
      "Layer (type)                 Output Shape              Param #   \n",
      "=================================================================\n",
      "conv2d_a (Conv2D)            (None, 14, 14, 8)         40        \n",
      "_________________________________________________________________\n",
      "dropout_a (Dropout)          (None, 14, 14, 8)         0         \n",
      "_________________________________________________________________\n",
      "conv2d_b (Conv2D)            (None, 11, 11, 8)         1032      \n",
      "_________________________________________________________________\n",
      "conv2d_c (Conv2D)            (None, 8, 8, 8)           1032      \n",
      "_________________________________________________________________\n",
      "dropout_b (Dropout)          (None, 8, 8, 8)           0         \n",
      "_________________________________________________________________\n",
      "conv2d_d (Conv2D)            (None, 5, 5, 8)           1032      \n",
      "_________________________________________________________________\n",
      "conv2d_e (Conv2D)            (None, 4, 4, 4)           132       \n",
      "_________________________________________________________________\n",
      "flatten (Flatten)            (None, 64)                0         \n",
      "_________________________________________________________________\n",
      "dense (Dense)                (None, 10)                650       \n",
      "=================================================================\n",
      "Total params: 3,918\n",
      "Trainable params: 3,918\n",
      "Non-trainable params: 0\n",
      "_________________________________________________________________\n"
     ]
    }
   ],
   "source": [
    "clfmdl.summary()"
   ]
  },
  {
   "cell_type": "code",
   "execution_count": 8,
   "metadata": {},
   "outputs": [],
   "source": [
    "clfmdl.compile(optimizer=tf.keras.optimizers.Adam(),\n",
    "               loss=tf.keras.losses.SparseCategoricalCrossentropy(),\n",
    "               metrics=[tf.keras.metrics.SparseCategoricalAccuracy()])"
   ]
  },
  {
   "cell_type": "code",
   "execution_count": 9,
   "metadata": {},
   "outputs": [
    {
     "name": "stderr",
     "output_type": "stream",
     "text": [
      "WARNING: Logging before flag parsing goes to stderr.\n",
      "W0621 10:36:16.213540 140273939883776 deprecation.py:323] From /home/derek/miniconda3/envs/tf2beta/lib/python3.6/site-packages/tensorflow/python/ops/math_grad.py:1250: add_dispatch_support.<locals>.wrapper (from tensorflow.python.ops.array_ops) is deprecated and will be removed in a future version.\n",
      "Instructions for updating:\n",
      "Use tf.where in 2.0, which has the same broadcast rule as np.where\n"
     ]
    },
    {
     "name": "stdout",
     "output_type": "stream",
     "text": [
      "Epoch 1/10\n",
      "1875/1875 [==============================] - 17s 9ms/step - loss: 0.5049 - sparse_categorical_accuracy: 0.8425\n",
      "Epoch 2/10\n",
      "1875/1875 [==============================] - 15s 8ms/step - loss: 0.1845 - sparse_categorical_accuracy: 0.9433\n",
      "Epoch 3/10\n",
      "1875/1875 [==============================] - 15s 8ms/step - loss: 0.1342 - sparse_categorical_accuracy: 0.9584\n",
      "Epoch 4/10\n",
      "1875/1875 [==============================] - 15s 8ms/step - loss: 0.1136 - sparse_categorical_accuracy: 0.9648\n",
      "Epoch 5/10\n",
      "1875/1875 [==============================] - 15s 8ms/step - loss: 0.1003 - sparse_categorical_accuracy: 0.9689\n",
      "Epoch 6/10\n",
      "1875/1875 [==============================] - 15s 8ms/step - loss: 0.0935 - sparse_categorical_accuracy: 0.9707\n",
      "Epoch 7/10\n",
      "1875/1875 [==============================] - 15s 8ms/step - loss: 0.0861 - sparse_categorical_accuracy: 0.9726\n",
      "Epoch 8/10\n",
      "1875/1875 [==============================] - 15s 8ms/step - loss: 0.0835 - sparse_categorical_accuracy: 0.9737\n",
      "Epoch 9/10\n",
      "1875/1875 [==============================] - 15s 8ms/step - loss: 0.0793 - sparse_categorical_accuracy: 0.9750\n",
      "Epoch 10/10\n",
      "1875/1875 [==============================] - 15s 8ms/step - loss: 0.0779 - sparse_categorical_accuracy: 0.9758\n"
     ]
    },
    {
     "data": {
      "text/plain": [
       "<tensorflow.python.keras.callbacks.History at 0x7f939f311cc0>"
      ]
     },
     "execution_count": 9,
     "metadata": {},
     "output_type": "execute_result"
    }
   ],
   "source": [
    "clfmdl.fit(trn_dataset, epochs=10)"
   ]
  },
  {
   "cell_type": "code",
   "execution_count": 10,
   "metadata": {},
   "outputs": [
    {
     "name": "stdout",
     "output_type": "stream",
     "text": [
      "312/312 [==============================] - 1s 3ms/step - loss: 0.0592 - sparse_categorical_accuracy: 0.9805\n"
     ]
    },
    {
     "data": {
      "text/plain": [
       "[0.05921341217822956, 0.98046875]"
      ]
     },
     "execution_count": 10,
     "metadata": {},
     "output_type": "execute_result"
    }
   ],
   "source": [
    "clfmdl.evaluate(tst_dataset)"
   ]
  },
  {
   "cell_type": "markdown",
   "metadata": {},
   "source": [
    "## results\n",
    "\n",
    "after ten epochs, this network reaches 98% accuracy on the test set"
   ]
  },
  {
   "cell_type": "code",
   "execution_count": null,
   "metadata": {},
   "outputs": [],
   "source": []
  }
 ],
 "metadata": {
  "kernelspec": {
   "display_name": "TensorFlow 2.0 beta",
   "language": "python",
   "name": "tf2beta"
  },
  "language_info": {
   "codemirror_mode": {
    "name": "ipython",
    "version": 3
   },
   "file_extension": ".py",
   "mimetype": "text/x-python",
   "name": "python",
   "nbconvert_exporter": "python",
   "pygments_lexer": "ipython3",
   "version": "3.6.8"
  }
 },
 "nbformat": 4,
 "nbformat_minor": 2
}
