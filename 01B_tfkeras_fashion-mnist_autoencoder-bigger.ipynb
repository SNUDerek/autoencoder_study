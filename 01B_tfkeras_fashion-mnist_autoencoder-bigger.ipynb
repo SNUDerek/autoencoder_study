{
 "cells": [
  {
   "cell_type": "markdown",
   "metadata": {},
   "source": [
    "# Hello Tensorflow Too\n",
    "\n",
    "## test 1: MNIST convolutional autoencoder with tf.data.Datasets & tf.keras\n",
    "\n",
    "a basic convnet-based encoder-decoder autoencoder for MNIST digits.\n",
    "\n",
    "using the same convolutional model as the classification task for our encoder, we compress the information into a (4, 4, 4) matrix.\n",
    "\n",
    "then we use a transposed convolutional decoder to \"blow up\" the image, conditioning the model on the original input.\n",
    "\n"
   ]
  },
  {
   "cell_type": "code",
   "execution_count": 1,
   "metadata": {},
   "outputs": [],
   "source": [
    "%matplotlib inline"
   ]
  },
  {
   "cell_type": "code",
   "execution_count": 2,
   "metadata": {},
   "outputs": [],
   "source": [
    "import matplotlib.pyplot as plt\n",
    "import numpy as np\n",
    "import tensorflow as tf\n",
    "from functools import reduce"
   ]
  },
  {
   "cell_type": "code",
   "execution_count": 3,
   "metadata": {},
   "outputs": [
    {
     "data": {
      "text/plain": [
       "'2.0.0-beta1'"
      ]
     },
     "execution_count": 3,
     "metadata": {},
     "output_type": "execute_result"
    }
   ],
   "source": [
    "tf.__version__"
   ]
  },
  {
   "cell_type": "code",
   "execution_count": 4,
   "metadata": {},
   "outputs": [
    {
     "name": "stdout",
     "output_type": "stream",
     "text": [
      "0.0 1.0\n",
      "(60000, 28, 28, 1)\n"
     ]
    }
   ],
   "source": [
    "(x_train, y_train), (x_test, y_test) = tf.keras.datasets.fashion_mnist.load_data()\n",
    "# add axis for channel and normalize to 0 ~ 1 (based on training max)\n",
    "x_test = np.expand_dims(x_test, axis=-1)/np.max(x_train)\n",
    "x_train = np.expand_dims(x_train, axis=-1)/np.max(x_train)\n",
    "x_shape = x_train[0].shape\n",
    "print(np.min(x_train), np.max(x_train))\n",
    "print(x_train.shape)"
   ]
  },
  {
   "cell_type": "code",
   "execution_count": 5,
   "metadata": {},
   "outputs": [],
   "source": [
    "trn_dataset = tf.data.Dataset.from_tensor_slices((x_train, x_train))\n",
    "trn_dataset = trn_dataset.shuffle(buffer_size=128).batch(32, drop_remainder=True)"
   ]
  },
  {
   "cell_type": "code",
   "execution_count": 6,
   "metadata": {},
   "outputs": [],
   "source": [
    "tst_dataset = tf.data.Dataset.from_tensor_slices((x_test, x_test))\n",
    "tst_dataset = tst_dataset.shuffle(buffer_size=128).batch(32, drop_remainder=True)"
   ]
  },
  {
   "cell_type": "code",
   "execution_count": 54,
   "metadata": {},
   "outputs": [],
   "source": [
    "encoder = tf.keras.Sequential([\n",
    "    tf.keras.layers.Conv2D(64, kernel_size=5, activation='relu', strides=1, input_shape=x_shape, name='conv2d_a'),\n",
    "    tf.keras.layers.Dropout(rate=0.25, name='dropout_a'),\n",
    "    tf.keras.layers.Conv2D(32, kernel_size=5, activation='relu', strides=1, input_shape=x_shape, name='conv2d_b'),\n",
    "    tf.keras.layers.Conv2D(24, kernel_size=5, activation='relu', strides=1, input_shape=x_shape, name='conv2d_c'),\n",
    "    tf.keras.layers.Dropout(rate=0.25, name='dropout_b'),\n",
    "    tf.keras.layers.Conv2D(16, kernel_size=4, activation='relu', strides=1, kernel_regularizer=tf.keras.regularizers.l2(0.005), name='conv2d_d'),\n",
    "    tf.keras.layers.Conv2D(16, kernel_size=3, activation='relu', strides=1, kernel_regularizer=tf.keras.regularizers.l2(0.005), name='conv2d_e'),\n",
    "    tf.keras.layers.Dropout(rate=0.25, name='dropout_c'),\n",
    "    tf.keras.layers.Conv2D(8, kernel_size=3, activation='relu', strides=1, kernel_regularizer=tf.keras.regularizers.l2(0.005), name='conv2d_f'),\n",
    "    tf.keras.layers.Conv2D(3, kernel_size=2, activation='tanh', name='conv2d_g'),\n",
    "    tf.keras.layers.Flatten(name='flatten'),\n",
    "], name='encoder')"
   ]
  },
  {
   "cell_type": "code",
   "execution_count": 55,
   "metadata": {},
   "outputs": [
    {
     "name": "stdout",
     "output_type": "stream",
     "text": [
      "compressing 784 features to size 192 = compression factor of 4.1x\n"
     ]
    }
   ],
   "source": [
    "enc_img_shape = tuple(encoder.layers[-2].output.shape[1:])\n",
    "enc_out_shape = tuple(encoder.layers[-1].output.shape[1:])\n",
    "\n",
    "print(\"compressing {} features to size {} = compression factor of {:3.1f}x\".format(\n",
    "    reduce(lambda x, y: x*y, x_shape),\n",
    "    reduce(lambda x, y: x*y, enc_out_shape),\n",
    "    reduce(lambda x, y: x*y, x_shape)/reduce(lambda x, y: x*y, enc_out_shape)\n",
    "))"
   ]
  },
  {
   "cell_type": "code",
   "execution_count": 56,
   "metadata": {},
   "outputs": [
    {
     "name": "stdout",
     "output_type": "stream",
     "text": [
      "Model: \"encoder\"\n",
      "_________________________________________________________________\n",
      "Layer (type)                 Output Shape              Param #   \n",
      "=================================================================\n",
      "conv2d_a (Conv2D)            (None, 24, 24, 64)        1664      \n",
      "_________________________________________________________________\n",
      "dropout_a (Dropout)          (None, 24, 24, 64)        0         \n",
      "_________________________________________________________________\n",
      "conv2d_b (Conv2D)            (None, 20, 20, 32)        51232     \n",
      "_________________________________________________________________\n",
      "conv2d_c (Conv2D)            (None, 16, 16, 24)        19224     \n",
      "_________________________________________________________________\n",
      "dropout_b (Dropout)          (None, 16, 16, 24)        0         \n",
      "_________________________________________________________________\n",
      "conv2d_d (Conv2D)            (None, 13, 13, 16)        6160      \n",
      "_________________________________________________________________\n",
      "conv2d_e (Conv2D)            (None, 11, 11, 16)        2320      \n",
      "_________________________________________________________________\n",
      "dropout_c (Dropout)          (None, 11, 11, 16)        0         \n",
      "_________________________________________________________________\n",
      "conv2d_f (Conv2D)            (None, 9, 9, 8)           1160      \n",
      "_________________________________________________________________\n",
      "conv2d_g (Conv2D)            (None, 8, 8, 3)           99        \n",
      "_________________________________________________________________\n",
      "flatten (Flatten)            (None, 192)               0         \n",
      "=================================================================\n",
      "Total params: 81,859\n",
      "Trainable params: 81,859\n",
      "Non-trainable params: 0\n",
      "_________________________________________________________________\n"
     ]
    }
   ],
   "source": [
    "encoder.summary()"
   ]
  },
  {
   "cell_type": "code",
   "execution_count": 59,
   "metadata": {},
   "outputs": [],
   "source": [
    "decoder = tf.keras.Sequential([\n",
    "    tf.keras.layers.Reshape(enc_img_shape, input_shape=enc_out_shape, name='reshape_latents'),\n",
    "    tf.keras.layers.Conv2DTranspose(16, kernel_size=2, dilation_rate=2, activation='relu', name='deconv_1'),\n",
    "    tf.keras.layers.Conv2DTranspose(16, kernel_size=2, dilation_rate=2, activation='relu', name='deconv_2'),\n",
    "    tf.keras.layers.Conv2DTranspose(16, kernel_size=3, dilation_rate=2, activation='relu', name='deconv_3'),\n",
    "    tf.keras.layers.Conv2DTranspose(16, kernel_size=4, dilation_rate=2, activation='tanh', name='deconv_4'),\n",
    "    tf.keras.layers.Conv2DTranspose(16, kernel_size=4, dilation_rate=2, activation='tanh', name='deconv_5'),\n",
    "    tf.keras.layers.Conv2D(1, kernel_size=1, activation='sigmoid', name='final_conv')\n",
    "    \n",
    "], name='decoder')"
   ]
  },
  {
   "cell_type": "code",
   "execution_count": 60,
   "metadata": {},
   "outputs": [
    {
     "name": "stdout",
     "output_type": "stream",
     "text": [
      "Model: \"decoder\"\n",
      "_________________________________________________________________\n",
      "Layer (type)                 Output Shape              Param #   \n",
      "=================================================================\n",
      "reshape_latents (Reshape)    (None, 8, 8, 3)           0         \n",
      "_________________________________________________________________\n",
      "deconv_1 (Conv2DTranspose)   (None, 10, 10, 16)        208       \n",
      "_________________________________________________________________\n",
      "deconv_2 (Conv2DTranspose)   (None, 12, 12, 16)        1040      \n",
      "_________________________________________________________________\n",
      "deconv_3 (Conv2DTranspose)   (None, 16, 16, 16)        2320      \n",
      "_________________________________________________________________\n",
      "deconv_4 (Conv2DTranspose)   (None, 22, 22, 16)        4112      \n",
      "_________________________________________________________________\n",
      "deconv_5 (Conv2DTranspose)   (None, 28, 28, 16)        4112      \n",
      "_________________________________________________________________\n",
      "final_conv (Conv2D)          (None, 28, 28, 1)         17        \n",
      "=================================================================\n",
      "Total params: 11,809\n",
      "Trainable params: 11,809\n",
      "Non-trainable params: 0\n",
      "_________________________________________________________________\n"
     ]
    }
   ],
   "source": [
    "decoder.summary()"
   ]
  },
  {
   "cell_type": "code",
   "execution_count": 61,
   "metadata": {},
   "outputs": [],
   "source": [
    "p2pmdl = tf.keras.Sequential([\n",
    "    encoder,\n",
    "    decoder], name='autoencoder')"
   ]
  },
  {
   "cell_type": "code",
   "execution_count": 68,
   "metadata": {},
   "outputs": [],
   "source": [
    "p2pmdl.compile(optimizer=tf.keras.optimizers.Adam(),\n",
    "               loss=tf.keras.losses.MeanSquaredError(), #tf.keras.losses.BinaryCrossentropy(), # or MSE?\n",
    "               metrics=[tf.keras.metrics.MeanSquaredError()])"
   ]
  },
  {
   "cell_type": "code",
   "execution_count": 69,
   "metadata": {},
   "outputs": [
    {
     "name": "stdout",
     "output_type": "stream",
     "text": [
      "Epoch 1/24\n",
      "1875/1875 - 37s - loss: 0.0222 - mean_squared_error: 0.0212\n",
      "Epoch 2/24\n",
      "1875/1875 - 35s - loss: 0.0207 - mean_squared_error: 0.0197\n",
      "Epoch 3/24\n",
      "1875/1875 - 35s - loss: 0.0197 - mean_squared_error: 0.0187\n",
      "Epoch 4/24\n",
      "1875/1875 - 35s - loss: 0.0189 - mean_squared_error: 0.0179\n",
      "Epoch 5/24\n",
      "1875/1875 - 35s - loss: 0.0184 - mean_squared_error: 0.0175\n",
      "Epoch 6/24\n",
      "1875/1875 - 35s - loss: 0.0179 - mean_squared_error: 0.0170\n",
      "Epoch 7/24\n",
      "1875/1875 - 35s - loss: 0.0177 - mean_squared_error: 0.0168\n",
      "Epoch 8/24\n",
      "1875/1875 - 35s - loss: 0.0173 - mean_squared_error: 0.0165\n",
      "Epoch 9/24\n",
      "1875/1875 - 35s - loss: 0.0170 - mean_squared_error: 0.0162\n",
      "Epoch 10/24\n",
      "1875/1875 - 35s - loss: 0.0169 - mean_squared_error: 0.0160\n",
      "Epoch 11/24\n",
      "1875/1875 - 35s - loss: 0.0168 - mean_squared_error: 0.0159\n",
      "Epoch 12/24\n",
      "1875/1875 - 35s - loss: 0.0165 - mean_squared_error: 0.0157\n",
      "Epoch 13/24\n",
      "1875/1875 - 35s - loss: 0.0163 - mean_squared_error: 0.0155\n",
      "Epoch 14/24\n",
      "1875/1875 - 35s - loss: 0.0162 - mean_squared_error: 0.0154\n",
      "Epoch 15/24\n",
      "1875/1875 - 35s - loss: 0.0161 - mean_squared_error: 0.0153\n",
      "Epoch 16/24\n",
      "1875/1875 - 35s - loss: 0.0160 - mean_squared_error: 0.0152\n",
      "Epoch 17/24\n",
      "1875/1875 - 35s - loss: 0.0158 - mean_squared_error: 0.0151\n",
      "Epoch 18/24\n",
      "1875/1875 - 35s - loss: 0.0157 - mean_squared_error: 0.0150\n",
      "Epoch 19/24\n",
      "1875/1875 - 35s - loss: 0.0157 - mean_squared_error: 0.0149\n",
      "Epoch 20/24\n",
      "1875/1875 - 35s - loss: 0.0156 - mean_squared_error: 0.0148\n",
      "Epoch 21/24\n",
      "1875/1875 - 35s - loss: 0.0154 - mean_squared_error: 0.0147\n",
      "Epoch 22/24\n",
      "1875/1875 - 35s - loss: 0.0154 - mean_squared_error: 0.0147\n",
      "Epoch 23/24\n",
      "1875/1875 - 35s - loss: 0.0153 - mean_squared_error: 0.0146\n",
      "Epoch 24/24\n",
      "1875/1875 - 35s - loss: 0.0152 - mean_squared_error: 0.0145\n"
     ]
    },
    {
     "data": {
      "text/plain": [
       "<tensorflow.python.keras.callbacks.History at 0x7f1648795128>"
      ]
     },
     "execution_count": 69,
     "metadata": {},
     "output_type": "execute_result"
    }
   ],
   "source": [
    "p2pmdl.fit(trn_dataset, epochs=24, verbose=2)"
   ]
  },
  {
   "cell_type": "code",
   "execution_count": 70,
   "metadata": {},
   "outputs": [
    {
     "name": "stdout",
     "output_type": "stream",
     "text": [
      "312/312 [==============================] - 2s 7ms/step - loss: 0.0140 - mean_squared_error: 0.0132\n"
     ]
    },
    {
     "data": {
      "text/plain": [
       "[0.014013786065893678, 0.0132495565]"
      ]
     },
     "execution_count": 70,
     "metadata": {},
     "output_type": "execute_result"
    }
   ],
   "source": [
    "p2pmdl.evaluate(tst_dataset)"
   ]
  },
  {
   "cell_type": "code",
   "execution_count": 71,
   "metadata": {},
   "outputs": [],
   "source": [
    "outs = p2pmdl.predict(x_test)\n",
    "outs = outs.squeeze(axis=-1)"
   ]
  },
  {
   "cell_type": "code",
   "execution_count": 72,
   "metadata": {},
   "outputs": [],
   "source": [
    "inps = x_test.squeeze(axis=-1)"
   ]
  },
  {
   "cell_type": "code",
   "execution_count": 73,
   "metadata": {},
   "outputs": [],
   "source": [
    "indices = np.random.randint(0, len(x_test), size=16)"
   ]
  },
  {
   "cell_type": "code",
   "execution_count": 74,
   "metadata": {},
   "outputs": [],
   "source": [
    "def renderdigits(plots, indices):\n",
    "    fig = plt.figure( figsize=(14,6) )\n",
    "    for i in range(0,15):\n",
    "        ax = fig.add_subplot(3,5,i+1)\n",
    "        ax.imshow(plots[indices[i]], cmap='gray')\n",
    "    plt.show()\n",
    "    return"
   ]
  },
  {
   "cell_type": "code",
   "execution_count": 75,
   "metadata": {},
   "outputs": [
    {
     "data": {
      "image/png": "[encoded data removed]",
      "text/plain": [
       "<Figure size 1008x432 with 15 Axes>"
      ]
     },
     "metadata": {
      "needs_background": "light"
     },
     "output_type": "display_data"
    }
   ],
   "source": [
    "renderdigits(inps, indices)"
   ]
  },
  {
   "cell_type": "code",
   "execution_count": 76,
   "metadata": {},
   "outputs": [
    {
     "data": {
      "image/png": "[encoded data removed]",
      "text/plain": [
       "<Figure size 1008x432 with 15 Axes>"
      ]
     },
     "metadata": {
      "needs_background": "light"
     },
     "output_type": "display_data"
    }
   ],
   "source": [
    "renderdigits(outs, indices)"
   ]
  },
  {
   "cell_type": "code",
   "execution_count": null,
   "metadata": {},
   "outputs": [],
   "source": []
  }
 ],
 "metadata": {
  "kernelspec": {
   "display_name": "TensorFlow 2.0 beta",
   "language": "python",
   "name": "tf2beta"
  },
  "language_info": {
   "codemirror_mode": {
    "name": "ipython",
    "version": 3
   },
   "file_extension": ".py",
   "mimetype": "text/x-python",
   "name": "python",
   "nbconvert_exporter": "python",
   "pygments_lexer": "ipython3",
   "version": "3.6.8"
  }
 },
 "nbformat": 4,
 "nbformat_minor": 2
}
