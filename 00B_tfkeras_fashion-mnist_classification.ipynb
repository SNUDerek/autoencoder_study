{
 "cells": [
  {
   "cell_type": "markdown",
   "metadata": {},
   "source": [
    "# Hello Tensorflow Too\n",
    "\n",
    "## test 0: Fashion MNIST classification with tf.data.Datasets & tf.keras\n",
    "\n",
    "here we create a small 2D convolutional network to classify MNIST digits.\n",
    "\n",
    "it consists of a number of 2D convolutional layers that compress the 28x28 pixel digits to 64-dim vector before a final dense network for classification.\n",
    "\n",
    "we can then test using this classification network as the encoder of an autoencoder model (next notebook).\n"
   ]
  },
  {
   "cell_type": "code",
   "execution_count": 1,
   "metadata": {},
   "outputs": [],
   "source": [
    "import numpy as np\n",
    "import tensorflow as tf"
   ]
  },
  {
   "cell_type": "code",
   "execution_count": 2,
   "metadata": {},
   "outputs": [
    {
     "data": {
      "text/plain": [
       "'2.0.0-beta1'"
      ]
     },
     "execution_count": 2,
     "metadata": {},
     "output_type": "execute_result"
    }
   ],
   "source": [
    "tf.__version__"
   ]
  },
  {
   "cell_type": "code",
   "execution_count": 3,
   "metadata": {},
   "outputs": [
    {
     "name": "stdout",
     "output_type": "stream",
     "text": [
      "0.0 1.0\n",
      "(60000, 28, 28, 1)\n",
      "(60000, 1)\n"
     ]
    }
   ],
   "source": [
    "(x_train, y_train), (x_test, y_test) = tf.keras.datasets.fashion_mnist.load_data()\n",
    "# add axis for channel and normalize to 0 ~ 1 (based on training max)\n",
    "x_test = np.expand_dims(x_test, axis=-1)/np.max(x_train)\n",
    "x_train = np.expand_dims(x_train, axis=-1)/np.max(x_train)\n",
    "x_shape = x_train[0].shape\n",
    "print(np.min(x_train), np.max(x_train))\n",
    "print(x_train.shape)\n",
    "# add axis for sparse categorical crossentropy (unnecessary)\n",
    "y_train = np.expand_dims(y_train, axis=-1)\n",
    "y_test = np.expand_dims(y_test, axis=-1)\n",
    "print(y_train.shape)"
   ]
  },
  {
   "cell_type": "code",
   "execution_count": 4,
   "metadata": {},
   "outputs": [],
   "source": [
    "trn_dataset = tf.data.Dataset.from_tensor_slices((x_train, y_train))\n",
    "trn_dataset = trn_dataset.shuffle(buffer_size=128).batch(32, drop_remainder=True)"
   ]
  },
  {
   "cell_type": "code",
   "execution_count": 5,
   "metadata": {},
   "outputs": [],
   "source": [
    "tst_dataset = tf.data.Dataset.from_tensor_slices((x_test, y_test))\n",
    "tst_dataset = tst_dataset.shuffle(buffer_size=128).batch(32, drop_remainder=True)"
   ]
  },
  {
   "cell_type": "code",
   "execution_count": 6,
   "metadata": {},
   "outputs": [],
   "source": [
    "clfmdl = tf.keras.Sequential([\n",
    "    tf.keras.layers.Conv2D(32, kernel_size=8, activation='relu', strides=1, input_shape=x_shape, name='conv2d_a'),\n",
    "    tf.keras.layers.Dropout(rate=0.25, name='dropout_a'),\n",
    "    tf.keras.layers.Conv2D(24, kernel_size=7, activation='relu', strides=1, input_shape=x_shape, name='conv2d_b'),\n",
    "    tf.keras.layers.Conv2D(16, kernel_size=5, activation='relu', strides=1, input_shape=x_shape, name='conv2d_c'),\n",
    "    tf.keras.layers.Dropout(rate=0.25, name='dropout_b'),\n",
    "    tf.keras.layers.Conv2D(12, kernel_size=4, activation='relu', strides=1, kernel_regularizer=tf.keras.regularizers.l2(0.005), name='conv2d_d'),\n",
    "    tf.keras.layers.Conv2D(8, kernel_size=3, activation='relu', strides=1, kernel_regularizer=tf.keras.regularizers.l2(0.005), name='conv2d_e'),\n",
    "    tf.keras.layers.Dropout(rate=0.25, name='dropout_c'),\n",
    "    tf.keras.layers.Conv2D(8, kernel_size=2, activation='relu', strides=1, kernel_regularizer=tf.keras.regularizers.l2(0.005), name='conv2d_f'),\n",
    "    tf.keras.layers.Conv2D(4, kernel_size=2, activation='tanh', name='conv2d_g'),\n",
    "    tf.keras.layers.Flatten(name='flatten'),\n",
    "    tf.keras.layers.Dense(64, activation='relu', name='dense'),\n",
    "    tf.keras.layers.Dense(10, activation='softmax', name='prediction')\n",
    "], name='classifier')"
   ]
  },
  {
   "cell_type": "code",
   "execution_count": 7,
   "metadata": {},
   "outputs": [
    {
     "name": "stdout",
     "output_type": "stream",
     "text": [
      "Model: \"classifier\"\n",
      "_________________________________________________________________\n",
      "Layer (type)                 Output Shape              Param #   \n",
      "=================================================================\n",
      "conv2d_a (Conv2D)            (None, 21, 21, 32)        2080      \n",
      "_________________________________________________________________\n",
      "dropout_a (Dropout)          (None, 21, 21, 32)        0         \n",
      "_________________________________________________________________\n",
      "conv2d_b (Conv2D)            (None, 15, 15, 24)        37656     \n",
      "_________________________________________________________________\n",
      "conv2d_c (Conv2D)            (None, 11, 11, 16)        9616      \n",
      "_________________________________________________________________\n",
      "dropout_b (Dropout)          (None, 11, 11, 16)        0         \n",
      "_________________________________________________________________\n",
      "conv2d_d (Conv2D)            (None, 8, 8, 12)          3084      \n",
      "_________________________________________________________________\n",
      "conv2d_e (Conv2D)            (None, 6, 6, 8)           872       \n",
      "_________________________________________________________________\n",
      "dropout_c (Dropout)          (None, 6, 6, 8)           0         \n",
      "_________________________________________________________________\n",
      "conv2d_f (Conv2D)            (None, 5, 5, 8)           264       \n",
      "_________________________________________________________________\n",
      "conv2d_g (Conv2D)            (None, 4, 4, 4)           132       \n",
      "_________________________________________________________________\n",
      "flatten (Flatten)            (None, 64)                0         \n",
      "_________________________________________________________________\n",
      "dense (Dense)                (None, 64)                4160      \n",
      "_________________________________________________________________\n",
      "prediction (Dense)           (None, 10)                650       \n",
      "=================================================================\n",
      "Total params: 58,514\n",
      "Trainable params: 58,514\n",
      "Non-trainable params: 0\n",
      "_________________________________________________________________\n"
     ]
    }
   ],
   "source": [
    "clfmdl.summary()"
   ]
  },
  {
   "cell_type": "code",
   "execution_count": 8,
   "metadata": {},
   "outputs": [],
   "source": [
    "clfmdl.compile(optimizer=tf.keras.optimizers.Adam(),\n",
    "               loss=tf.keras.losses.SparseCategoricalCrossentropy(),\n",
    "               metrics=[tf.keras.metrics.SparseCategoricalAccuracy()])"
   ]
  },
  {
   "cell_type": "code",
   "execution_count": 9,
   "metadata": {},
   "outputs": [
    {
     "name": "stderr",
     "output_type": "stream",
     "text": [
      "WARNING: Logging before flag parsing goes to stderr.\n",
      "W0621 11:05:57.589309 139696230758144 deprecation.py:323] From /home/derek/miniconda3/envs/tf2beta/lib/python3.6/site-packages/tensorflow/python/ops/math_grad.py:1250: add_dispatch_support.<locals>.wrapper (from tensorflow.python.ops.array_ops) is deprecated and will be removed in a future version.\n",
      "Instructions for updating:\n",
      "Use tf.where in 2.0, which has the same broadcast rule as np.where\n"
     ]
    },
    {
     "name": "stdout",
     "output_type": "stream",
     "text": [
      "Epoch 1/20\n",
      "1875/1875 - 20s - loss: 0.8629 - sparse_categorical_accuracy: 0.6880\n",
      "Epoch 2/20\n",
      "1875/1875 - 19s - loss: 0.5613 - sparse_categorical_accuracy: 0.8021\n",
      "Epoch 3/20\n",
      "1875/1875 - 18s - loss: 0.4926 - sparse_categorical_accuracy: 0.8278\n",
      "Epoch 4/20\n",
      "1875/1875 - 18s - loss: 0.4540 - sparse_categorical_accuracy: 0.8406\n",
      "Epoch 5/20\n",
      "1875/1875 - 19s - loss: 0.4249 - sparse_categorical_accuracy: 0.8506\n",
      "Epoch 6/20\n",
      "1875/1875 - 19s - loss: 0.4051 - sparse_categorical_accuracy: 0.8585\n",
      "Epoch 7/20\n",
      "1875/1875 - 18s - loss: 0.3922 - sparse_categorical_accuracy: 0.8618\n",
      "Epoch 8/20\n",
      "1875/1875 - 18s - loss: 0.3790 - sparse_categorical_accuracy: 0.8656\n",
      "Epoch 9/20\n",
      "1875/1875 - 19s - loss: 0.3670 - sparse_categorical_accuracy: 0.8710\n",
      "Epoch 10/20\n",
      "1875/1875 - 18s - loss: 0.3609 - sparse_categorical_accuracy: 0.8719\n",
      "Epoch 11/20\n",
      "1875/1875 - 19s - loss: 0.3544 - sparse_categorical_accuracy: 0.8748\n",
      "Epoch 12/20\n",
      "1875/1875 - 18s - loss: 0.3478 - sparse_categorical_accuracy: 0.8764\n",
      "Epoch 13/20\n",
      "1875/1875 - 18s - loss: 0.3424 - sparse_categorical_accuracy: 0.8782\n",
      "Epoch 14/20\n",
      "1875/1875 - 18s - loss: 0.3365 - sparse_categorical_accuracy: 0.8817\n",
      "Epoch 15/20\n",
      "1875/1875 - 18s - loss: 0.3309 - sparse_categorical_accuracy: 0.8830\n",
      "Epoch 16/20\n",
      "1875/1875 - 18s - loss: 0.3297 - sparse_categorical_accuracy: 0.8839\n",
      "Epoch 17/20\n",
      "1875/1875 - 19s - loss: 0.3225 - sparse_categorical_accuracy: 0.8854\n",
      "Epoch 18/20\n",
      "1875/1875 - 18s - loss: 0.3183 - sparse_categorical_accuracy: 0.8864\n",
      "Epoch 19/20\n",
      "1875/1875 - 18s - loss: 0.3174 - sparse_categorical_accuracy: 0.8865\n",
      "Epoch 20/20\n",
      "1875/1875 - 18s - loss: 0.3121 - sparse_categorical_accuracy: 0.8892\n"
     ]
    },
    {
     "data": {
      "text/plain": [
       "<tensorflow.python.keras.callbacks.History at 0x7f0d20035cf8>"
      ]
     },
     "execution_count": 9,
     "metadata": {},
     "output_type": "execute_result"
    }
   ],
   "source": [
    "clfmdl.fit(trn_dataset, epochs=20, verbose=2)"
   ]
  },
  {
   "cell_type": "code",
   "execution_count": 10,
   "metadata": {},
   "outputs": [
    {
     "name": "stdout",
     "output_type": "stream",
     "text": [
      "312/312 [==============================] - 1s 5ms/step - loss: 0.3620 - sparse_categorical_accuracy: 0.8758\n"
     ]
    },
    {
     "data": {
      "text/plain": [
       "[0.3620129776282761, 0.87580127]"
      ]
     },
     "execution_count": 10,
     "metadata": {},
     "output_type": "execute_result"
    }
   ],
   "source": [
    "clfmdl.evaluate(tst_dataset)"
   ]
  },
  {
   "cell_type": "markdown",
   "metadata": {},
   "source": [
    "## results\n",
    "\n",
    "after twenty epochs, this network reaches 87.5% accuracy on test set"
   ]
  },
  {
   "cell_type": "code",
   "execution_count": null,
   "metadata": {},
   "outputs": [],
   "source": []
  }
 ],
 "metadata": {
  "kernelspec": {
   "display_name": "TensorFlow 2.0 beta",
   "language": "python",
   "name": "tf2beta"
  },
  "language_info": {
   "codemirror_mode": {
    "name": "ipython",
    "version": 3
   },
   "file_extension": ".py",
   "mimetype": "text/x-python",
   "name": "python",
   "nbconvert_exporter": "python",
   "pygments_lexer": "ipython3",
   "version": "3.6.8"
  }
 },
 "nbformat": 4,
 "nbformat_minor": 2
}
