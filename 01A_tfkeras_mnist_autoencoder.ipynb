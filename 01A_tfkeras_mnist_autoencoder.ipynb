{
 "cells": [
  {
   "cell_type": "markdown",
   "metadata": {},
   "source": [
    "# Hello Tensorflow Too\n",
    "\n",
    "## test 1: MNIST convolutional autoencoder with tf.data.Datasets & tf.keras\n",
    "\n",
    "a basic convnet-based encoder-decoder autoencoder for MNIST digits.\n",
    "\n",
    "using the same convolutional model as the classification task for our encoder, we compress the information into a (4, 4, 4) matrix.\n",
    "\n",
    "then we use a transposed convolutional decoder to \"blow up\" the image, conditioning the model on the original input.\n",
    "\n"
   ]
  },
  {
   "cell_type": "code",
   "execution_count": 1,
   "metadata": {},
   "outputs": [],
   "source": [
    "%matplotlib inline"
   ]
  },
  {
   "cell_type": "code",
   "execution_count": 2,
   "metadata": {},
   "outputs": [],
   "source": [
    "import matplotlib.pyplot as plt\n",
    "import numpy as np\n",
    "import tensorflow as tf\n",
    "from functools import reduce"
   ]
  },
  {
   "cell_type": "code",
   "execution_count": 3,
   "metadata": {},
   "outputs": [
    {
     "data": {
      "text/plain": [
       "'2.0.0-beta1'"
      ]
     },
     "execution_count": 3,
     "metadata": {},
     "output_type": "execute_result"
    }
   ],
   "source": [
    "tf.__version__"
   ]
  },
  {
   "cell_type": "code",
   "execution_count": 4,
   "metadata": {},
   "outputs": [
    {
     "name": "stdout",
     "output_type": "stream",
     "text": [
      "0.0 1.0\n",
      "(60000, 28, 28, 1)\n"
     ]
    }
   ],
   "source": [
    "(x_train, y_train), (x_test, y_test) = tf.keras.datasets.mnist.load_data()\n",
    "# add axis for channel and normalize to 0 ~ 1 (based on training max)\n",
    "x_test = np.expand_dims(x_test, axis=-1)/np.max(x_train)\n",
    "x_train = np.expand_dims(x_train, axis=-1)/np.max(x_train)\n",
    "x_shape = x_train[0].shape\n",
    "print(np.min(x_train), np.max(x_train))\n",
    "print(x_train.shape)"
   ]
  },
  {
   "cell_type": "code",
   "execution_count": 5,
   "metadata": {},
   "outputs": [],
   "source": [
    "trn_dataset = tf.data.Dataset.from_tensor_slices((x_train, x_train))\n",
    "trn_dataset = trn_dataset.shuffle(buffer_size=128).batch(32, drop_remainder=True)"
   ]
  },
  {
   "cell_type": "code",
   "execution_count": 6,
   "metadata": {},
   "outputs": [],
   "source": [
    "tst_dataset = tf.data.Dataset.from_tensor_slices((x_test, x_test))\n",
    "tst_dataset = tst_dataset.shuffle(buffer_size=128).batch(32, drop_remainder=True)"
   ]
  },
  {
   "cell_type": "code",
   "execution_count": 7,
   "metadata": {},
   "outputs": [],
   "source": [
    "encoder = tf.keras.Sequential([\n",
    "    tf.keras.layers.Conv2D(8, kernel_size=2, activation='relu', strides=2, input_shape=x_shape, name='conv2d_a'),\n",
    "    tf.keras.layers.Dropout(rate=0.2, name='dropout_a'),\n",
    "    tf.keras.layers.Conv2D(8, kernel_size=4, activation='relu', strides=1, name='conv2d_b'),\n",
    "    tf.keras.layers.Conv2D(8, kernel_size=4, activation='relu', strides=1, name='conv2d_c'),\n",
    "    tf.keras.layers.Dropout(rate=0.2, name='dropout_b'),\n",
    "    tf.keras.layers.Conv2D(8, kernel_size=4, activation='relu', strides=1, name='conv2d_d'),\n",
    "    tf.keras.layers.Conv2D(4, kernel_size=2, activation='tanh', name='conv2d_e'),\n",
    "    tf.keras.layers.Flatten(name='flat_latents')\n",
    "], name='encoder')"
   ]
  },
  {
   "cell_type": "code",
   "execution_count": 8,
   "metadata": {},
   "outputs": [
    {
     "name": "stdout",
     "output_type": "stream",
     "text": [
      "compressing 784 features to size 64 = compression factor of 12.2x\n"
     ]
    }
   ],
   "source": [
    "enc_out_shape = tuple(encoder.layers[-1].output.shape[1:])\n",
    "\n",
    "print(\"compressing {} features to size {} = compression factor of {:3.1f}x\".format(\n",
    "    reduce(lambda x, y: x*y, x_shape),\n",
    "    reduce(lambda x, y: x*y, enc_out_shape),\n",
    "    reduce(lambda x, y: x*y, x_shape)/reduce(lambda x, y: x*y, enc_out_shape)\n",
    "))"
   ]
  },
  {
   "cell_type": "code",
   "execution_count": 9,
   "metadata": {},
   "outputs": [
    {
     "name": "stdout",
     "output_type": "stream",
     "text": [
      "Model: \"encoder\"\n",
      "_________________________________________________________________\n",
      "Layer (type)                 Output Shape              Param #   \n",
      "=================================================================\n",
      "conv2d_a (Conv2D)            (None, 14, 14, 8)         40        \n",
      "_________________________________________________________________\n",
      "dropout_a (Dropout)          (None, 14, 14, 8)         0         \n",
      "_________________________________________________________________\n",
      "conv2d_b (Conv2D)            (None, 11, 11, 8)         1032      \n",
      "_________________________________________________________________\n",
      "conv2d_c (Conv2D)            (None, 8, 8, 8)           1032      \n",
      "_________________________________________________________________\n",
      "dropout_b (Dropout)          (None, 8, 8, 8)           0         \n",
      "_________________________________________________________________\n",
      "conv2d_d (Conv2D)            (None, 5, 5, 8)           1032      \n",
      "_________________________________________________________________\n",
      "conv2d_e (Conv2D)            (None, 4, 4, 4)           132       \n",
      "_________________________________________________________________\n",
      "flat_latents (Flatten)       (None, 64)                0         \n",
      "=================================================================\n",
      "Total params: 3,268\n",
      "Trainable params: 3,268\n",
      "Non-trainable params: 0\n",
      "_________________________________________________________________\n"
     ]
    }
   ],
   "source": [
    "encoder.summary()"
   ]
  },
  {
   "cell_type": "code",
   "execution_count": 10,
   "metadata": {},
   "outputs": [],
   "source": [
    "decoder = tf.keras.Sequential([\n",
    "    tf.keras.layers.Reshape((4, 4, 4), input_shape=enc_out_shape, name='reshape_latents'),\n",
    "    tf.keras.layers.Conv2DTranspose(8, kernel_size=4, dilation_rate=2, activation='tanh', name='deconv_1'),\n",
    "    tf.keras.layers.Conv2DTranspose(8, kernel_size=4, dilation_rate=2, activation='tanh', name='deconv_2'),\n",
    "    tf.keras.layers.Conv2DTranspose(8, kernel_size=4, dilation_rate=2, activation='tanh', name='deconv_3'),\n",
    "    tf.keras.layers.Conv2DTranspose(8, kernel_size=4, dilation_rate=2, activation='tanh', name='deconv_4'),\n",
    "    tf.keras.layers.Conv2D(1, kernel_size=1, activation='sigmoid', name='final_conv')\n",
    "    \n",
    "], name='decoder')"
   ]
  },
  {
   "cell_type": "code",
   "execution_count": 11,
   "metadata": {},
   "outputs": [
    {
     "name": "stdout",
     "output_type": "stream",
     "text": [
      "Model: \"decoder\"\n",
      "_________________________________________________________________\n",
      "Layer (type)                 Output Shape              Param #   \n",
      "=================================================================\n",
      "reshape_latents (Reshape)    (None, 4, 4, 4)           0         \n",
      "_________________________________________________________________\n",
      "deconv_1 (Conv2DTranspose)   (None, 10, 10, 8)         520       \n",
      "_________________________________________________________________\n",
      "deconv_2 (Conv2DTranspose)   (None, 16, 16, 8)         1032      \n",
      "_________________________________________________________________\n",
      "deconv_3 (Conv2DTranspose)   (None, 22, 22, 8)         1032      \n",
      "_________________________________________________________________\n",
      "deconv_4 (Conv2DTranspose)   (None, 28, 28, 8)         1032      \n",
      "_________________________________________________________________\n",
      "final_conv (Conv2D)          (None, 28, 28, 1)         9         \n",
      "=================================================================\n",
      "Total params: 3,625\n",
      "Trainable params: 3,625\n",
      "Non-trainable params: 0\n",
      "_________________________________________________________________\n"
     ]
    }
   ],
   "source": [
    "decoder.summary()"
   ]
  },
  {
   "cell_type": "code",
   "execution_count": 12,
   "metadata": {},
   "outputs": [],
   "source": [
    "p2pmdl = tf.keras.Sequential([\n",
    "    encoder,\n",
    "    decoder], name='autoencoder')"
   ]
  },
  {
   "cell_type": "code",
   "execution_count": 13,
   "metadata": {},
   "outputs": [],
   "source": [
    "p2pmdl.compile(optimizer=tf.keras.optimizers.Adam(),\n",
    "               loss=tf.keras.losses.BinaryCrossentropy(), # or MSE?\n",
    "               metrics=[tf.keras.metrics.MeanSquaredError()])"
   ]
  },
  {
   "cell_type": "code",
   "execution_count": 14,
   "metadata": {},
   "outputs": [
    {
     "name": "stderr",
     "output_type": "stream",
     "text": [
      "WARNING: Logging before flag parsing goes to stderr.\n",
      "W0620 18:19:35.095201 140530270484224 deprecation.py:323] From /home/derek/miniconda3/envs/tf2beta/lib/python3.6/site-packages/tensorflow/python/ops/math_grad.py:1250: add_dispatch_support.<locals>.wrapper (from tensorflow.python.ops.array_ops) is deprecated and will be removed in a future version.\n",
      "Instructions for updating:\n",
      "Use tf.where in 2.0, which has the same broadcast rule as np.where\n"
     ]
    },
    {
     "name": "stdout",
     "output_type": "stream",
     "text": [
      "Epoch 1/10\n",
      "1875/1875 - 23s - loss: 0.2200 - mean_squared_error: 0.0498\n",
      "Epoch 2/10\n",
      "1875/1875 - 22s - loss: 0.1703 - mean_squared_error: 0.0344\n",
      "Epoch 3/10\n",
      "1875/1875 - 21s - loss: 0.1590 - mean_squared_error: 0.0311\n",
      "Epoch 4/10\n",
      "1875/1875 - 21s - loss: 0.1541 - mean_squared_error: 0.0296\n",
      "Epoch 5/10\n",
      "1875/1875 - 22s - loss: 0.1512 - mean_squared_error: 0.0287\n",
      "Epoch 6/10\n",
      "1875/1875 - 21s - loss: 0.1490 - mean_squared_error: 0.0281\n",
      "Epoch 7/10\n",
      "1875/1875 - 22s - loss: 0.1475 - mean_squared_error: 0.0276\n",
      "Epoch 8/10\n",
      "1875/1875 - 21s - loss: 0.1463 - mean_squared_error: 0.0272\n",
      "Epoch 9/10\n",
      "1875/1875 - 22s - loss: 0.1453 - mean_squared_error: 0.0269\n",
      "Epoch 10/10\n",
      "1875/1875 - 21s - loss: 0.1444 - mean_squared_error: 0.0267\n"
     ]
    },
    {
     "data": {
      "text/plain": [
       "<tensorflow.python.keras.callbacks.History at 0x7fcf4ff5cbe0>"
      ]
     },
     "execution_count": 14,
     "metadata": {},
     "output_type": "execute_result"
    }
   ],
   "source": [
    "p2pmdl.fit(trn_dataset, epochs=10, verbose=2)"
   ]
  },
  {
   "cell_type": "code",
   "execution_count": 15,
   "metadata": {},
   "outputs": [
    {
     "name": "stdout",
     "output_type": "stream",
     "text": [
      "312/312 [==============================] - 2s 6ms/step - loss: 0.1383 - mean_squared_error: 0.0246\n"
     ]
    },
    {
     "data": {
      "text/plain": [
       "[0.13828219406497785, 0.024627373]"
      ]
     },
     "execution_count": 15,
     "metadata": {},
     "output_type": "execute_result"
    }
   ],
   "source": [
    "p2pmdl.evaluate(tst_dataset)"
   ]
  },
  {
   "cell_type": "code",
   "execution_count": 16,
   "metadata": {},
   "outputs": [],
   "source": [
    "outs = p2pmdl.predict(x_test)\n",
    "outs = outs.squeeze(axis=-1)"
   ]
  },
  {
   "cell_type": "code",
   "execution_count": 17,
   "metadata": {},
   "outputs": [],
   "source": [
    "inps = x_test.squeeze(axis=-1)"
   ]
  },
  {
   "cell_type": "code",
   "execution_count": 18,
   "metadata": {},
   "outputs": [],
   "source": [
    "indices = np.random.randint(0, len(x_test), size=16)"
   ]
  },
  {
   "cell_type": "code",
   "execution_count": 19,
   "metadata": {},
   "outputs": [],
   "source": [
    "def renderdigits(plots, indices):\n",
    "    fig = plt.figure( figsize=(14,6) )\n",
    "    for i in range(0,15):\n",
    "        ax = fig.add_subplot(3,5,i+1)\n",
    "        ax.imshow(plots[indices[i]], cmap='gray')\n",
    "    plt.show()\n",
    "    return"
   ]
  },
  {
   "cell_type": "code",
   "execution_count": 20,
   "metadata": {},
   "outputs": [
    {
     "data": {
      "image/png": "[encoded data removed]",
      "text/plain": [
       "<Figure size 1008x432 with 15 Axes>"
      ]
     },
     "metadata": {
      "needs_background": "light"
     },
     "output_type": "display_data"
    }
   ],
   "source": [
    "renderdigits(inps, indices)"
   ]
  },
  {
   "cell_type": "code",
   "execution_count": 21,
   "metadata": {},
   "outputs": [
    {
     "data": {
      "image/png": "[encoded data removed]",
      "text/plain": [
       "<Figure size 1008x432 with 15 Axes>"
      ]
     },
     "metadata": {
      "needs_background": "light"
     },
     "output_type": "display_data"
    }
   ],
   "source": [
    "renderdigits(outs, indices)"
   ]
  },
  {
   "cell_type": "code",
   "execution_count": null,
   "metadata": {},
   "outputs": [],
   "source": []
  }
 ],
 "metadata": {
  "kernelspec": {
   "display_name": "TensorFlow 2.0 beta",
   "language": "python",
   "name": "tf2beta"
  },
  "language_info": {
   "codemirror_mode": {
    "name": "ipython",
    "version": 3
   },
   "file_extension": ".py",
   "mimetype": "text/x-python",
   "name": "python",
   "nbconvert_exporter": "python",
   "pygments_lexer": "ipython3",
   "version": "3.6.8"
  }
 },
 "nbformat": 4,
 "nbformat_minor": 2
}
